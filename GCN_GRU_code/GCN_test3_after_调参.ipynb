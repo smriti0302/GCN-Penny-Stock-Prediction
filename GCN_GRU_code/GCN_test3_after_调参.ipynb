{
 "cells": [
  {
   "cell_type": "code",
   "execution_count": 147,
   "metadata": {},
   "outputs": [],
   "source": [
    "import numpy as np\n",
    "import pandas as pd\n",
    "import matplotlib.pyplot as plt"
   ]
  },
  {
   "cell_type": "code",
   "execution_count": 148,
   "metadata": {},
   "outputs": [],
   "source": [
    "import tensorflow as tf"
   ]
  },
  {
   "cell_type": "code",
   "execution_count": 149,
   "metadata": {},
   "outputs": [
    {
     "data": {
      "text/plain": [
       "'2.9.1'"
      ]
     },
     "execution_count": 149,
     "metadata": {},
     "output_type": "execute_result"
    }
   ],
   "source": [
    "tf.__version__"
   ]
  },
  {
   "cell_type": "code",
   "execution_count": 150,
   "metadata": {},
   "outputs": [],
   "source": [
    "from sklearn.model_selection import train_test_split"
   ]
  },
  {
   "cell_type": "code",
   "execution_count": 151,
   "metadata": {},
   "outputs": [],
   "source": [
    "np.set_printoptions(suppress=True)"
   ]
  },
  {
   "cell_type": "code",
   "execution_count": 271,
   "metadata": {
    "scrolled": true
   },
   "outputs": [
    {
     "data": {
      "text/plain": [
       "array([[[    25.        ,     25.        ,     25.        ,\n",
       "             25.        ,      0.        ],\n",
       "        [     1.472     ,      1.472     ,      1.39999998,\n",
       "              1.39999998,  22480.        ],\n",
       "        [    23.35000038,     23.35000038,     21.14999962,\n",
       "             21.14999962, 124154.        ],\n",
       "        [    34.65000153,     36.45000076,     30.20000076,\n",
       "             30.5       ,  16288.        ],\n",
       "        [    19.39999962,     21.14999962,     19.20000076,\n",
       "             20.79999924, 381921.        ]],\n",
       "\n",
       "       [[    25.        ,     25.        ,     25.        ,\n",
       "             25.        ,      0.        ],\n",
       "        [     1.54499996,      1.54499996,      1.54499996,\n",
       "              1.54499996,  16760.        ],\n",
       "        [    23.89999962,     24.5       ,     22.20000076,\n",
       "             22.20000076, 199628.        ],\n",
       "        [    36.79999924,     38.59999847,     33.        ,\n",
       "             35.04999924,  22900.        ],\n",
       "        [    19.39999962,     20.        ,     19.10000038,\n",
       "             19.79999924, 105506.        ]],\n",
       "\n",
       "       [[    25.        ,     25.        ,     25.        ,\n",
       "             25.        ,      0.        ],\n",
       "        [     1.62199998,      1.62199998,      1.54499996,\n",
       "              1.54499996,  38510.        ],\n",
       "        [    24.        ,     24.5       ,     22.77499962,\n",
       "             22.77499962, 182016.        ],\n",
       "        [    41.45000076,     42.90000153,     34.04999924,\n",
       "             37.5       ,  27946.        ],\n",
       "        [    20.04999924,     20.20000076,     19.54999924,\n",
       "             19.79999924,  53378.        ]],\n",
       "\n",
       "       ...,\n",
       "\n",
       "       [[     4.        ,      4.        ,      4.        ,\n",
       "              4.        ,      0.        ],\n",
       "        [     0.40000001,      0.40000001,      0.40000001,\n",
       "              0.40000001,   3101.        ],\n",
       "        [     1.78999996,      1.78999996,      1.78999996,\n",
       "              1.78999996,   1732.        ],\n",
       "        [     2.69000006,      2.69000006,      2.6500001 ,\n",
       "              2.6500001 ,   1969.        ],\n",
       "        [     7.80000019,      7.94000006,      7.53999996,\n",
       "              7.92000008,  34745.        ]],\n",
       "\n",
       "       [[     4.        ,      4.        ,      4.        ,\n",
       "              4.        ,      0.        ],\n",
       "        [     0.41999999,      0.41999999,      0.41999999,\n",
       "              0.41999999,   1100.        ],\n",
       "        [     1.87      ,      1.87      ,      1.71000004,\n",
       "              1.87      ,  26006.        ],\n",
       "        [     2.81999993,      2.81999993,      2.81999993,\n",
       "              2.81999993,    211.        ],\n",
       "        [     7.82000017,      8.        ,      7.30000019,\n",
       "              7.30000019,  30292.        ]],\n",
       "\n",
       "       [[     4.        ,      4.        ,      4.        ,\n",
       "              4.        ,      0.        ],\n",
       "        [     0.41999999,      0.41999999,      0.41999999,\n",
       "              0.41999999,      0.        ],\n",
       "        [     1.88      ,      1.89999998,      1.87      ,\n",
       "              1.87      ,   1656.        ],\n",
       "        [     2.96000004,      2.96000004,      2.96000004,\n",
       "              2.96000004,    632.        ],\n",
       "        [     7.73000002,      7.9000001 ,      7.3499999 ,\n",
       "              7.9000001 ,  46157.        ]]])"
      ]
     },
     "execution_count": 271,
     "metadata": {},
     "output_type": "execute_result"
    }
   ],
   "source": [
    "sample_data = np.load(r'C:\\Users\\Sivakumar\\Desktop\\GCN_stock_price_prediction-main\\Sample_Dataset_code\\stock_price_matrix_adjust.npy')\n",
    "sample_data"
   ]
  },
  {
   "cell_type": "code",
   "execution_count": 272,
   "metadata": {},
   "outputs": [
    {
     "data": {
      "text/plain": [
       "(2712, 5, 5)"
      ]
     },
     "execution_count": 272,
     "metadata": {},
     "output_type": "execute_result"
    }
   ],
   "source": [
    "sample_data.shape"
   ]
  },
  {
   "cell_type": "code",
   "execution_count": 273,
   "metadata": {},
   "outputs": [
    {
     "data": {
      "text/plain": [
       "(2712, 5, 5)"
      ]
     },
     "execution_count": 273,
     "metadata": {},
     "output_type": "execute_result"
    }
   ],
   "source": [
    "ad_sample_data=sample_data.copy()\n",
    "ad_sample_data.shape"
   ]
  },
  {
   "cell_type": "code",
   "execution_count": 274,
   "metadata": {},
   "outputs": [
    {
     "data": {
      "text/plain": [
       "(2712, 5)"
      ]
     },
     "execution_count": 274,
     "metadata": {},
     "output_type": "execute_result"
    }
   ],
   "source": [
    "Label_data = ad_sample_data[:,:,0]\n",
    "Label_data.shape"
   ]
  },
  {
   "cell_type": "code",
   "execution_count": 275,
   "metadata": {},
   "outputs": [
    {
     "data": {
      "text/plain": [
       "2712"
      ]
     },
     "execution_count": 275,
     "metadata": {},
     "output_type": "execute_result"
    }
   ],
   "source": [
    "Label_data.shape[0]"
   ]
  },
  {
   "cell_type": "code",
   "execution_count": 276,
   "metadata": {},
   "outputs": [],
   "source": [
    "Label_data_fixed = np.zeros((Label_data.shape[0],Label_data.shape[1]))"
   ]
  },
  {
   "cell_type": "code",
   "execution_count": 277,
   "metadata": {},
   "outputs": [],
   "source": [
    "for i in range(Label_data.shape[0]-1):\n",
    "    for j in range(Label_data.shape[1]):\n",
    "        Label_data_fixed[i+1][j]=Label_data[i+1][j]-Label_data[i][j]\n"
   ]
  },
  {
   "cell_type": "code",
   "execution_count": 278,
   "metadata": {},
   "outputs": [],
   "source": [
    "for i in range(Label_data.shape[0]-1):\n",
    "    for j in range(Label_data.shape[1]):\n",
    "        if Label_data_fixed[i+1][j]>0:\n",
    "            Label_data_fixed[i+1][j]=1\n",
    "        else:\n",
    "            Label_data_fixed[i+1][j]=0\n"
   ]
  },
  {
   "cell_type": "code",
   "execution_count": 279,
   "metadata": {},
   "outputs": [
    {
     "data": {
      "text/html": [
       "<div>\n",
       "<style scoped>\n",
       "    .dataframe tbody tr th:only-of-type {\n",
       "        vertical-align: middle;\n",
       "    }\n",
       "\n",
       "    .dataframe tbody tr th {\n",
       "        vertical-align: top;\n",
       "    }\n",
       "\n",
       "    .dataframe thead th {\n",
       "        text-align: right;\n",
       "    }\n",
       "</style>\n",
       "<table border=\"1\" class=\"dataframe\">\n",
       "  <thead>\n",
       "    <tr style=\"text-align: right;\">\n",
       "      <th></th>\n",
       "      <th>0</th>\n",
       "      <th>1</th>\n",
       "      <th>2</th>\n",
       "      <th>3</th>\n",
       "      <th>4</th>\n",
       "    </tr>\n",
       "  </thead>\n",
       "  <tbody>\n",
       "    <tr>\n",
       "      <th>0</th>\n",
       "      <td>0.0</td>\n",
       "      <td>0.0</td>\n",
       "      <td>0.0</td>\n",
       "      <td>0.0</td>\n",
       "      <td>0.0</td>\n",
       "    </tr>\n",
       "    <tr>\n",
       "      <th>1</th>\n",
       "      <td>0.0</td>\n",
       "      <td>1.0</td>\n",
       "      <td>1.0</td>\n",
       "      <td>1.0</td>\n",
       "      <td>0.0</td>\n",
       "    </tr>\n",
       "    <tr>\n",
       "      <th>2</th>\n",
       "      <td>0.0</td>\n",
       "      <td>1.0</td>\n",
       "      <td>1.0</td>\n",
       "      <td>1.0</td>\n",
       "      <td>1.0</td>\n",
       "    </tr>\n",
       "    <tr>\n",
       "      <th>3</th>\n",
       "      <td>0.0</td>\n",
       "      <td>1.0</td>\n",
       "      <td>1.0</td>\n",
       "      <td>0.0</td>\n",
       "      <td>1.0</td>\n",
       "    </tr>\n",
       "    <tr>\n",
       "      <th>4</th>\n",
       "      <td>0.0</td>\n",
       "      <td>1.0</td>\n",
       "      <td>0.0</td>\n",
       "      <td>1.0</td>\n",
       "      <td>1.0</td>\n",
       "    </tr>\n",
       "    <tr>\n",
       "      <th>...</th>\n",
       "      <td>...</td>\n",
       "      <td>...</td>\n",
       "      <td>...</td>\n",
       "      <td>...</td>\n",
       "      <td>...</td>\n",
       "    </tr>\n",
       "    <tr>\n",
       "      <th>2707</th>\n",
       "      <td>0.0</td>\n",
       "      <td>1.0</td>\n",
       "      <td>0.0</td>\n",
       "      <td>1.0</td>\n",
       "      <td>1.0</td>\n",
       "    </tr>\n",
       "    <tr>\n",
       "      <th>2708</th>\n",
       "      <td>0.0</td>\n",
       "      <td>1.0</td>\n",
       "      <td>1.0</td>\n",
       "      <td>0.0</td>\n",
       "      <td>1.0</td>\n",
       "    </tr>\n",
       "    <tr>\n",
       "      <th>2709</th>\n",
       "      <td>0.0</td>\n",
       "      <td>0.0</td>\n",
       "      <td>1.0</td>\n",
       "      <td>1.0</td>\n",
       "      <td>0.0</td>\n",
       "    </tr>\n",
       "    <tr>\n",
       "      <th>2710</th>\n",
       "      <td>0.0</td>\n",
       "      <td>1.0</td>\n",
       "      <td>1.0</td>\n",
       "      <td>1.0</td>\n",
       "      <td>1.0</td>\n",
       "    </tr>\n",
       "    <tr>\n",
       "      <th>2711</th>\n",
       "      <td>0.0</td>\n",
       "      <td>0.0</td>\n",
       "      <td>1.0</td>\n",
       "      <td>1.0</td>\n",
       "      <td>0.0</td>\n",
       "    </tr>\n",
       "  </tbody>\n",
       "</table>\n",
       "<p>2712 rows × 5 columns</p>\n",
       "</div>"
      ],
      "text/plain": [
       "        0    1    2    3    4\n",
       "0     0.0  0.0  0.0  0.0  0.0\n",
       "1     0.0  1.0  1.0  1.0  0.0\n",
       "2     0.0  1.0  1.0  1.0  1.0\n",
       "3     0.0  1.0  1.0  0.0  1.0\n",
       "4     0.0  1.0  0.0  1.0  1.0\n",
       "...   ...  ...  ...  ...  ...\n",
       "2707  0.0  1.0  0.0  1.0  1.0\n",
       "2708  0.0  1.0  1.0  0.0  1.0\n",
       "2709  0.0  0.0  1.0  1.0  0.0\n",
       "2710  0.0  1.0  1.0  1.0  1.0\n",
       "2711  0.0  0.0  1.0  1.0  0.0\n",
       "\n",
       "[2712 rows x 5 columns]"
      ]
     },
     "execution_count": 279,
     "metadata": {},
     "output_type": "execute_result"
    }
   ],
   "source": [
    "pd.DataFrame(Label_data_fixed)"
   ]
  },
  {
   "cell_type": "code",
   "execution_count": 280,
   "metadata": {},
   "outputs": [],
   "source": [
    "Label_data_fixed=np.nan_to_num(Label_data_fixed)"
   ]
  },
  {
   "cell_type": "code",
   "execution_count": 281,
   "metadata": {},
   "outputs": [
    {
     "data": {
      "text/plain": [
       "(2712, 5)"
      ]
     },
     "execution_count": 281,
     "metadata": {},
     "output_type": "execute_result"
    }
   ],
   "source": [
    "Label_data_fixed.shape"
   ]
  },
  {
   "cell_type": "code",
   "execution_count": 282,
   "metadata": {},
   "outputs": [],
   "source": [
    "p=5"
   ]
  },
  {
   "cell_type": "code",
   "execution_count": 283,
   "metadata": {},
   "outputs": [
    {
     "data": {
      "text/plain": [
       "(2708, 5)"
      ]
     },
     "execution_count": 283,
     "metadata": {},
     "output_type": "execute_result"
    }
   ],
   "source": [
    "Label_data_2 = Label_data_fixed[p-1:,:]\n",
    "Label_data_2.shape"
   ]
  },
  {
   "cell_type": "code",
   "execution_count": 284,
   "metadata": {},
   "outputs": [
    {
     "data": {
      "text/plain": [
       "(2712, 5, 4)"
      ]
     },
     "execution_count": 284,
     "metadata": {},
     "output_type": "execute_result"
    }
   ],
   "source": [
    "input_data = ad_sample_data[:,:,1:]\n",
    "input_data.shape"
   ]
  },
  {
   "cell_type": "code",
   "execution_count": 285,
   "metadata": {},
   "outputs": [],
   "source": [
    "p=5"
   ]
  },
  {
   "cell_type": "code",
   "execution_count": 286,
   "metadata": {},
   "outputs": [
    {
     "data": {
      "text/plain": [
       "(2708, 5, 5, 4)"
      ]
     },
     "execution_count": 286,
     "metadata": {},
     "output_type": "execute_result"
    }
   ],
   "source": [
    "input_data_final = np.zeros((input_data.shape[0]+1-p,p,input_data.shape[1],input_data.shape[2]))\n",
    "input_data_final.shape"
   ]
  },
  {
   "cell_type": "code",
   "execution_count": 287,
   "metadata": {},
   "outputs": [
    {
     "data": {
      "text/plain": [
       "(5, 5, 4)"
      ]
     },
     "execution_count": 287,
     "metadata": {},
     "output_type": "execute_result"
    }
   ],
   "source": [
    "input_data_final[0].shape"
   ]
  },
  {
   "cell_type": "code",
   "execution_count": 288,
   "metadata": {},
   "outputs": [],
   "source": [
    "for i in range(input_data.shape[0]+1-p):\n",
    "    one_line = []\n",
    "    for j in range(p):\n",
    "        one_line.append(input_data[i+j])\n",
    "        \n",
    "    input_data_final[i] = np.array(one_line)\n",
    "    "
   ]
  },
  {
   "cell_type": "code",
   "execution_count": 289,
   "metadata": {},
   "outputs": [
    {
     "data": {
      "text/plain": [
       "(2708, 5, 5, 4)"
      ]
     },
     "execution_count": 289,
     "metadata": {},
     "output_type": "execute_result"
    }
   ],
   "source": [
    "input_data_final.shape"
   ]
  },
  {
   "cell_type": "code",
   "execution_count": 290,
   "metadata": {},
   "outputs": [],
   "source": [
    "N=5\n",
    "M=2708\n",
    "P=5\n",
    "F=4\n",
    "TEST_SIZE = 0.3 # the test and val size of dataset\n",
    "RANDOM_STATE = 4"
   ]
  },
  {
   "cell_type": "code",
   "execution_count": 291,
   "metadata": {},
   "outputs": [
    {
     "name": "stdout",
     "output_type": "stream",
     "text": [
      "(5, 5)\n",
      "[[ 0.         18.79489824 10.24021964 19.05143091 12.25574277]\n",
      " [18.79489824  0.          9.51765727 37.70208823  9.57976452]\n",
      " [10.24021964  9.51765727  0.         28.05799708  5.73273033]\n",
      " [19.05143091 37.70208823 28.05799708  0.         30.23036553]\n",
      " [12.25574277  9.57976452  5.73273033 30.23036553  0.        ]]\n"
     ]
    }
   ],
   "source": [
    "T = np.load(r'C:\\Users\\Sivakumar\\Desktop\\GCN_stock_price_prediction-main\\share_holding_graph\\shareholding_relation_adjacent_matrix_tongyi.npy')\n",
    "print(T.shape)\n",
    "print(T)"
   ]
  },
  {
   "cell_type": "code",
   "execution_count": 292,
   "metadata": {},
   "outputs": [
    {
     "name": "stdout",
     "output_type": "stream",
     "text": [
      "(5, 5)\n",
      "[[ 1.          0.04987455  0.67080818  0.57231438 -0.27551475]\n",
      " [ 0.04987455  1.          0.04671114 -0.20652669  0.18554448]\n",
      " [ 0.67080818  0.04671114  1.          0.81072034  0.12920231]\n",
      " [ 0.57231438 -0.20652669  0.81072034  1.          0.10635695]\n",
      " [-0.27551475  0.18554448  0.12920231  0.10635695  1.        ]]\n"
     ]
    }
   ],
   "source": [
    "S=np.load(r'C:\\Users\\Sivakumar\\Desktop\\GCN_stock_price_prediction-main\\Pearson_stock_price_graph\\Pearson_stock_price.npy')\n",
    "print(S.shape)\n",
    "print(S)"
   ]
  },
  {
   "cell_type": "code",
   "execution_count": 293,
   "metadata": {},
   "outputs": [
    {
     "name": "stdout",
     "output_type": "stream",
     "text": [
      "(5, 5)\n",
      "[[ 0.56868282  0.62763855 -0.0325255  -0.30318226  0.69791062]\n",
      " [ 0.21587643 -0.24340335 -0.06691578  0.85768635  2.2602681 ]\n",
      " [ 0.20022294  0.43612352  0.38947199  0.43173739  0.76495628]\n",
      " [ 1.36835629 -0.21730763 -0.28147354  1.08808641 -1.04541035]\n",
      " [-0.69606092  1.3200928  -1.13330734  1.13962319  1.36028396]]\n"
     ]
    }
   ],
   "source": [
    "#T = np.random.normal(size=(N,N))\n",
    "I = np.random.normal(size=(N,N))\n",
    "#S = np.random.normal(size=(N,N))\n",
    "print(I.shape)\n",
    "print(I)\n"
   ]
  },
  {
   "cell_type": "code",
   "execution_count": 294,
   "metadata": {},
   "outputs": [],
   "source": [
    "Fixed_Matrices = [T, I, S]"
   ]
  },
  {
   "cell_type": "code",
   "execution_count": 295,
   "metadata": {},
   "outputs": [],
   "source": [
    "samples = input_data_final#np.random.normal(size=(M, P, N, F))\n",
    "labels = Label_data_2#np.random.normal(size=(M, N))"
   ]
  },
  {
   "cell_type": "code",
   "execution_count": 296,
   "metadata": {},
   "outputs": [
    {
     "name": "stdout",
     "output_type": "stream",
     "text": [
      "(1895, 5, 5, 4) (1895, 5)\n",
      "(544, 5, 5, 4) (544, 5)\n",
      "(269, 5, 5, 4) (269, 5)\n"
     ]
    }
   ],
   "source": [
    "x_train, x_test, y_train, y_test = train_test_split(samples, labels, test_size=TEST_SIZE, random_state=RANDOM_STATE)\n",
    "x_test, x_val, y_test, y_val = train_test_split(x_test, y_test, test_size=0.33, random_state=RANDOM_STATE)\n",
    "print(x_train.shape, y_train.shape)\n",
    "print(x_test.shape, y_test.shape)\n",
    "print(x_val.shape, y_val.shape)"
   ]
  },
  {
   "cell_type": "code",
   "execution_count": 297,
   "metadata": {},
   "outputs": [],
   "source": [
    "x_train = tf.constant(x_train,dtype=tf.float32)\n",
    "y_train = tf.constant(y_train,dtype=tf.float32)\n",
    "x_test = tf.constant(x_test,dtype=tf.float32)\n",
    "y_test = tf.constant(y_test,dtype=tf.float32)\n",
    "x_val = tf.constant(x_val,dtype=tf.float32)\n",
    "y_val= tf.constant(y_val,dtype=tf.float32)"
   ]
  },
  {
   "cell_type": "code",
   "execution_count": 298,
   "metadata": {},
   "outputs": [],
   "source": [
    "class GCGRU(tf.keras.Model):\n",
    "    def __init__(self, N, F, Units_GCN, Units_GRU, Units_FC,\n",
    "                 Fixed_Matrices, Matrix_Weights, Is_Dyn,\n",
    "                 kernel_initializer='glorot_uniform',\n",
    "                 bias_initializer='zeros'):\n",
    "        super(GCGRU, self).__init__()\n",
    "        # Number of Nodes\n",
    "        self.N = N\n",
    "        # the number of input features\n",
    "        self.F = F\n",
    "        # pre-defined matrices: shape=[(N,N),(N,N),(N,N)]\n",
    "        self.mat = Fixed_Matrices\n",
    "        # Dynamic Matrix:shape=(N,N)\n",
    "        self.dyn = self.add_weight(name='w_Dynamic', shape=(self.N, self.N),\n",
    "                                 initializer=tf.keras.initializers.get(kernel_initializer),\n",
    "                                 trainable=True)\n",
    "\n",
    "        \n",
    "        if Is_Dyn:\n",
    "            self.mats = self.dyn\n",
    "        else:\n",
    "            self.mats = self.add_weight(name='w_Matrices', shape=(self.N, self.N),\n",
    "                                        initializer=tf.keras.initializers.get(kernel_initializer),\n",
    "                                        trainable=True)\n",
    "            for i in range(len(Matrix_Weights)):\n",
    "                coe = tf.Variable(1.0,trainable=True)\n",
    "                self.mats = self.mats + Matrix_Weights[i]*self.mat[i]*coe\n",
    "        \n",
    "        # GCN_Weights\n",
    "        self.units_gcn = Units_GCN\n",
    "        self.w_gcn = []\n",
    "        self.b_gcn = []\n",
    "        pre = self.F\n",
    "        for i in range(len(self.units_gcn)):\n",
    "            aft = self.units_gcn[i]\n",
    "            w = self.add_weight(name='w_GCN', shape=(pre, aft),\n",
    "                                initializer=tf.keras.initializers.get(kernel_initializer),\n",
    "                                trainable=True)\n",
    "            self.w_gcn.append(w)\n",
    "            b = self.add_weight('b_GCN',shape=(aft,),\n",
    "                                initializer=tf.keras.initializers.get(bias_initializer),\n",
    "                                trainable=True)\n",
    "            self.b_gcn.append(b)\n",
    "            pre = aft\n",
    "        # GRU_Weights\n",
    "        self.units_gru = Units_GRU\n",
    "        self.w_gru = []\n",
    "        self.b_gru = []\n",
    "        # the number of output features of Multi-GCN\n",
    "        C = self.units_gcn[-1]\n",
    "        F = self.F\n",
    "        for i in range(len(self.units_gru)-1):\n",
    "            H = self.units_gru[i]\n",
    "            pre = F+C+H\n",
    "            aft = H\n",
    "            for j in range(3):\n",
    "                w = self.add_weight(name='w_GRU', shape=(pre,aft),\n",
    "                                    initializer=tf.keras.initializers.get(kernel_initializer),\n",
    "                                    trainable=True)\n",
    "                self.w_gru.append(w)\n",
    "                b = self.add_weight(name='b_GRU', shape=(aft,),\n",
    "                                    initializer=tf.keras.initializers.get(bias_initializer),\n",
    "                                    trainable=True)\n",
    "                self.b_gru.append(b)\n",
    "            F = aft\n",
    "        # the last layer weights\n",
    "        H = self.units_gru[-2]\n",
    "        G = self.units_gru[-1]\n",
    "        w = self.add_weight(name='w_GRU', shape=(H,G),\n",
    "                            initializer=tf.keras.initializers.get(kernel_initializer),\n",
    "                            trainable=True)\n",
    "        \n",
    "        self.w_gru.append(w)\n",
    "        b = self.add_weight(name='b_GRU', shape=(G,),\n",
    "                                 initializer=tf.keras.initializers.get(bias_initializer),\n",
    "                                 trainable=True)\n",
    "        self.b_gru.append(b)\n",
    "        \n",
    "        # FC_weights\n",
    "        self.units_fc = Units_FC\n",
    "        self.w_fc = []\n",
    "        self.b_fc = []\n",
    "        pre = G\n",
    "        for i in range(len(self.units_fc)):\n",
    "            aft = self.units_fc[i]\n",
    "            w = self.add_weight(name='w_FC', shape=(pre,aft),\n",
    "                                initializer=tf.keras.initializers.get(kernel_initializer),\n",
    "                                trainable=True)\n",
    "            self.w_fc.append(w)\n",
    "            b = self.add_weight(name='b_FC', shape=(aft,),\n",
    "                                initializer=tf.keras.initializers.get(bias_initializer),\n",
    "                                trainable=True)\n",
    "            self.b_fc.append(b)\n",
    "            pre = aft\n",
    "    \n",
    "    def Multi_GCN(self, inputs):\n",
    "        '''\n",
    "        inputs:shape=(None,P,N,F)\n",
    "        x_gcn:shape=(None,P,N,C)\n",
    "        '''\n",
    "        P = inputs.shape[1]\n",
    "        x_gcn = []\n",
    "        for t in range(P):\n",
    "            # (None, P, N, F) =>(None, N, F)\n",
    "            xt_gcn = inputs[:,t,:,:]\n",
    "            \n",
    "            # (N,N)*(None, N, F)*(F,C)=> (None, N, C)\n",
    "            for i in range(len(self.units_gcn)):\n",
    "                xt_gcn = self.mats @ xt_gcn @ self.w_gcn[i] + self.b_gcn[i]\n",
    "                xt_gcn = tf.nn.tanh(xt_gcn)\n",
    "            x_gcn.append(xt_gcn)\n",
    "        # (None,P,N,C)\n",
    "        x_gcn = tf.stack(x_gcn, axis=1)\n",
    "        return x_gcn\n",
    "    \n",
    "    def GRU(self, x, x_gcn):\n",
    "        '''\n",
    "        x:shape=(None,P,N,F)\n",
    "        x_gcn:shape=(None,N,C)\n",
    "        x_gru:shape=(None,N,G)\n",
    "        '''\n",
    "        # initialize the hidden state in each gru layer\n",
    "        h_gru = []\n",
    "        # (None, P, N, F)=>(None, N, F)*(F,H)=> (None, N, H)\n",
    "        for i in range(len(self.units_gru)-1):\n",
    "            H = self.units_gru[i]\n",
    "            h = tf.zeros_like(x[:,0,:,:], dtype=tf.float32) @ tf.zeros([F, H])\n",
    "            h_gru.append(h)\n",
    "        \n",
    "        # all gru layers at each time step\n",
    "        for t in range(P):\n",
    "            # (None, P, N, C) =>(None, N, C)\n",
    "            xt_gcn = x_gcn[:,t,:,:]\n",
    "            # (None, P, N, F) =>(None, N, F)\n",
    "            xt = x[:,t,:,:]\n",
    "\n",
    "            # the i_th layer\n",
    "            for i in range(len(h_gru)):\n",
    "                #(None, N, H)\n",
    "                ht_1 = h_gru[i]\n",
    "                #(None, N, F)+(None, N, C)+(None, N, H)=> (None, N, C+F+H)\n",
    "                x_tgh = tf.concat([xt,xt_gcn,ht_1], axis=2)\n",
    "                #(None, N, C+F+H)=> (None, N, H)\n",
    "                ut = tf.nn.sigmoid(x_tgh @ self.w_gru[3*i+0] + self.b_gru[3*i+0])\n",
    "                rt =  tf.nn.sigmoid(x_tgh @ self.w_gru[3*i+1] + self.b_gru[3*i+1])\n",
    "                \n",
    "                # (None, N, C+F+H)\n",
    "                x_tghr = tf.concat([xt, xt_gcn, tf.multiply(rt, ht_1)], axis=2)\n",
    "                \n",
    "                # (None, N, H)\n",
    "                ct = tf.nn.tanh(x_tghr @ self.w_gru[3*i+2] + self.b_gru[3*i+2])\n",
    "                # (None, N, H)\n",
    "                ht = tf.multiply(ut, ht_1) + tf.multiply((1-ut), ct)\n",
    "                # (None, N, H)\n",
    "                xt = ht\n",
    "                # (None, N, H)\n",
    "                h_gru[i]=ht\n",
    "        # the last layer\n",
    "        x_gru = tf.nn.sigmoid(ht @ self.w_gru[-1] + self.b_gru[-1])\n",
    "        return x_gru\n",
    "    \n",
    "    def FC(self, x_gru):\n",
    "        '''\n",
    "        x_gru:shape=(None, N, G)\n",
    "        outputs:shape=(None,N,1)\n",
    "        '''\n",
    "        x = x_gru\n",
    "        for i in range(len(self.w_fc)):\n",
    "            x = x @ self.w_fc[i] + self.b_fc[i]\n",
    "            x = tf.nn.sigmoid(x)\n",
    "        # (None, N)\n",
    "        x_fc = tf.squeeze(x, axis=-1)\n",
    "        return x_fc\n",
    "\n",
    "    def build(self, input_shape):\n",
    "        super().build(input_shape)\n",
    "        \n",
    "    def call(self, inputs):\n",
    "        '''\n",
    "        inputs:shape=(None,P,N,F)\n",
    "        x_fc:shape=(None,N)\n",
    "        '''\n",
    "        # (None,P,N,C)\n",
    "        x_gcn = self.Multi_GCN(inputs)\n",
    "        # (None,N,G)\n",
    "        x_gru = self.GRU(inputs, x_gcn)\n",
    "        # (None,N)\n",
    "        x_fc = self.FC(x_gru)\n",
    "        return x_fc\n"
   ]
  },
  {
   "cell_type": "code",
   "execution_count": 300,
   "metadata": {
    "scrolled": true
   },
   "outputs": [
    {
     "name": "stdout",
     "output_type": "stream",
     "text": [
      "Model: \"gcgru_26\"\n",
      "_________________________________________________________________\n",
      " Layer (type)                Output Shape              Param #   \n",
      "=================================================================\n",
      "=================================================================\n",
      "Total params: 7,418\n",
      "Trainable params: 7,418\n",
      "Non-trainable params: 0\n",
      "_________________________________________________________________\n",
      "Epoch 1/10\n",
      "WARNING:tensorflow:Gradients do not exist for variables ['w_Dynamic:0'] when minimizing the loss. If you're using `model.compile()`, did you forget to provide a `loss`argument?\n",
      "WARNING:tensorflow:Gradients do not exist for variables ['w_Dynamic:0'] when minimizing the loss. If you're using `model.compile()`, did you forget to provide a `loss`argument?\n",
      "1895/1895 [==============================] - 7s 2ms/step - loss: 0.5391 - binary_accuracy: 0.6678 - val_loss: 0.5358 - val_binary_accuracy: 0.6989\n",
      "Epoch 2/10\n",
      "1895/1895 [==============================] - 4s 2ms/step - loss: 0.5264 - binary_accuracy: 0.6727 - val_loss: 0.5213 - val_binary_accuracy: 0.6989\n",
      "Epoch 3/10\n",
      "1895/1895 [==============================] - 4s 2ms/step - loss: 0.5235 - binary_accuracy: 0.6732 - val_loss: 0.5207 - val_binary_accuracy: 0.6989\n",
      "Epoch 4/10\n",
      "1895/1895 [==============================] - 4s 2ms/step - loss: 0.5211 - binary_accuracy: 0.6684 - val_loss: 0.5201 - val_binary_accuracy: 0.6989\n",
      "Epoch 5/10\n",
      "1895/1895 [==============================] - 4s 2ms/step - loss: 0.5187 - binary_accuracy: 0.6667 - val_loss: 0.5271 - val_binary_accuracy: 0.6647\n",
      "Epoch 6/10\n",
      "1895/1895 [==============================] - 4s 2ms/step - loss: 0.5203 - binary_accuracy: 0.6630 - val_loss: 0.5206 - val_binary_accuracy: 0.6892\n",
      "Epoch 7/10\n",
      "1895/1895 [==============================] - 4s 2ms/step - loss: 0.5172 - binary_accuracy: 0.6691 - val_loss: 0.5281 - val_binary_accuracy: 0.5978\n",
      "Epoch 8/10\n",
      "1895/1895 [==============================] - 4s 2ms/step - loss: 0.5182 - binary_accuracy: 0.6622 - val_loss: 0.5161 - val_binary_accuracy: 0.6989\n",
      "Epoch 9/10\n",
      "1895/1895 [==============================] - 4s 2ms/step - loss: 0.5151 - binary_accuracy: 0.6700 - val_loss: 0.5162 - val_binary_accuracy: 0.6989\n",
      "Epoch 10/10\n",
      "1895/1895 [==============================] - 4s 2ms/step - loss: 0.5173 - binary_accuracy: 0.6678 - val_loss: 0.5310 - val_binary_accuracy: 0.6840\n",
      "17/17 [==============================] - 0s 2ms/step - loss: 0.5197 - binary_accuracy: 0.6849\n",
      "[0.5197445154190063, 0.684926450252533]\n"
     ]
    },
    {
     "data": {
      "image/png": "[encoded data removed]",
      "text/plain": [
       "<Figure size 432x288 with 1 Axes>"
      ]
     },
     "metadata": {
      "needs_background": "light"
     },
     "output_type": "display_data"
    }
   ],
   "source": [
    "Units_GCN = [16,32,64]\n",
    "Units_GRU = [16,32]\n",
    "Units_FC = [1]\n",
    "Matrix_Weights = [1,1,1]\n",
    "Is_Dyn=False\n",
    "    \n",
    "model = GCGRU(N, F, Units_GCN, Units_GRU, Units_FC, Fixed_Matrices, Matrix_Weights,Is_Dyn)\n",
    "model.build(input_shape=(None, P, N, F))\n",
    "model.summary()\n",
    "model.compile(loss='binary_crossentropy',optimizer='adam',metrics=[tf.keras.metrics.BinaryAccuracy()])\n",
    "model_checkpoint = tf.keras.callbacks.ModelCheckpoint(\n",
    "    filepath = './500-GCGRU4',\n",
    "    monitor ='val_binary_accuracy',\n",
    "    save_weights_only = True,\n",
    "    save_best_only = True)\n",
    "Epochs =10\n",
    "Batch_size = 1\n",
    "History = model.fit(x_train, y_train, batch_size=Batch_size, epochs=Epochs, callbacks=[model_checkpoint], validation_data=(x_val, y_val))\n",
    "\n",
    "# Overfitting Observation\n",
    "#print(History.history)\n",
    "\n",
    "\n",
    "acc = History.history['binary_accuracy']\n",
    "val_acc = History.history['val_binary_accuracy']\n",
    "E = [i for i in range(Epochs)]\n",
    "plt.plot(E, acc,'b-',label='Accuracy')\n",
    "plt.plot(E, val_acc,'r-',label='Validation Set Accuracy')\n",
    "plt.legend()\n",
    "\n",
    "acc1 = History.history['loss']\n",
    "val_acc1 = History.history['val_loss']\n",
    "E = [i for i in range(Epochs)]\n",
    "plt.plot(E, acc1,'b-',label='Loss')\n",
    "plt.plot(E, val_acc1,'r-',label='Validation Set Loss')\n",
    "plt.legend()\n",
    "\n",
    "# Prediction\n",
    "model.load_weights('./500-GCGRU4')\n",
    "result = model.evaluate(x_test, y_test)\n",
    "print(result)\n"
   ]
  }
 ],
 "metadata": {
  "kernelspec": {
   "display_name": "Python 3.9.0 64-bit",
   "language": "python",
   "name": "python3"
  },
  "language_info": {
   "codemirror_mode": {
    "name": "ipython",
    "version": 3
   },
   "file_extension": ".py",
   "mimetype": "text/x-python",
   "name": "python",
   "nbconvert_exporter": "python",
   "pygments_lexer": "ipython3",
   "version": "3.9.0"
  },
  "vscode": {
   "interpreter": {
    "hash": "0de31ffdd40f2f237d26afe08c835de62c2698e1ec6f1475be55df7fc2e3a0d6"
   }
  }
 },
 "nbformat": 4,
 "nbformat_minor": 4
}
