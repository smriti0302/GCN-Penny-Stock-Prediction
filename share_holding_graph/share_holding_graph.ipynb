{
 "cells": [
  {
   "cell_type": "code",
   "execution_count": 100,
   "metadata": {},
   "outputs": [],
   "source": [
    "import numpy as np\n",
    "import pandas as pd"
   ]
  },
  {
   "cell_type": "code",
   "execution_count": 119,
   "metadata": {
    "scrolled": true
   },
   "outputs": [
    {
     "data": {
      "text/html": [
       "<div>\n",
       "<style scoped>\n",
       "    .dataframe tbody tr th:only-of-type {\n",
       "        vertical-align: middle;\n",
       "    }\n",
       "\n",
       "    .dataframe tbody tr th {\n",
       "        vertical-align: top;\n",
       "    }\n",
       "\n",
       "    .dataframe thead th {\n",
       "        text-align: right;\n",
       "    }\n",
       "</style>\n",
       "<table border=\"1\" class=\"dataframe\">\n",
       "  <thead>\n",
       "    <tr style=\"text-align: right;\">\n",
       "      <th></th>\n",
       "      <th>NAME</th>\n",
       "      <th>PROMOTER</th>\n",
       "      <th>PUBLIC</th>\n",
       "      <th>DII</th>\n",
       "      <th>FII</th>\n",
       "    </tr>\n",
       "  </thead>\n",
       "  <tbody>\n",
       "    <tr>\n",
       "      <th>0</th>\n",
       "      <td>4THGEN.BO</td>\n",
       "      <td>36.17</td>\n",
       "      <td>63.83</td>\n",
       "      <td>0</td>\n",
       "      <td>0.00</td>\n",
       "    </tr>\n",
       "    <tr>\n",
       "      <th>1</th>\n",
       "      <td>ACIIN.BO</td>\n",
       "      <td>22.88</td>\n",
       "      <td>77.12</td>\n",
       "      <td>0</td>\n",
       "      <td>0.00</td>\n",
       "    </tr>\n",
       "    <tr>\n",
       "      <th>2</th>\n",
       "      <td>AISHWARYA.BO</td>\n",
       "      <td>29.61</td>\n",
       "      <td>70.39</td>\n",
       "      <td>0</td>\n",
       "      <td>0.00</td>\n",
       "    </tr>\n",
       "    <tr>\n",
       "      <th>3</th>\n",
       "      <td>AJEL.BO</td>\n",
       "      <td>49.45</td>\n",
       "      <td>50.55</td>\n",
       "      <td>0</td>\n",
       "      <td>0.00</td>\n",
       "    </tr>\n",
       "    <tr>\n",
       "      <th>4</th>\n",
       "      <td>AKSHOPTFBR.BO</td>\n",
       "      <td>27.95</td>\n",
       "      <td>71.80</td>\n",
       "      <td>0</td>\n",
       "      <td>0.25</td>\n",
       "    </tr>\n",
       "    <tr>\n",
       "      <th>5</th>\n",
       "      <td>AKSHOPTFBR.NS</td>\n",
       "      <td>27.95</td>\n",
       "      <td>71.80</td>\n",
       "      <td>0</td>\n",
       "      <td>0.25</td>\n",
       "    </tr>\n",
       "  </tbody>\n",
       "</table>\n",
       "</div>"
      ],
      "text/plain": [
       "            NAME  PROMOTER  PUBLIC  DII   FII\n",
       "0      4THGEN.BO     36.17   63.83    0  0.00\n",
       "1       ACIIN.BO     22.88   77.12    0  0.00\n",
       "2   AISHWARYA.BO     29.61   70.39    0  0.00\n",
       "3        AJEL.BO     49.45   50.55    0  0.00\n",
       "4  AKSHOPTFBR.BO     27.95   71.80    0  0.25\n",
       "5  AKSHOPTFBR.NS     27.95   71.80    0  0.25"
      ]
     },
     "execution_count": 119,
     "metadata": {},
     "output_type": "execute_result"
    }
   ],
   "source": [
    "data=pd.read_excel(r\"C:\\Users\\Sivakumar\\Desktop\\GCN_stock_price_prediction-main\\technology_shareholding_sorted.xlsx\")\n",
    "data"
   ]
  },
  {
   "cell_type": "code",
   "execution_count": 120,
   "metadata": {},
   "outputs": [
    {
     "name": "stdout",
     "output_type": "stream",
     "text": [
      "[[36.17 63.83  0.    0.  ]\n",
      " [22.88 77.12  0.    0.  ]\n",
      " [29.61 70.39  0.    0.  ]\n",
      " [49.45 50.55  0.    0.  ]\n",
      " [27.95 71.8   0.    0.25]]\n"
     ]
    }
   ],
   "source": [
    "'''print(data.iloc[0][0])\n",
    "print(data.iloc[1][0])\n",
    "print(data.iloc[2])\n",
    "print(data.iloc[3])'''\n",
    "\n",
    "l1 = []\n",
    "for i in range(5):\n",
    "    for j in range(1,5):\n",
    "        l1.append(data.iloc[i][j])\n",
    "#print(l1)\n",
    "arr_1 = np.reshape(l1, (5,4))\n",
    "print(arr_1)\n"
   ]
  },
  {
   "cell_type": "code",
   "execution_count": 121,
   "metadata": {},
   "outputs": [
    {
     "name": "stdout",
     "output_type": "stream",
     "text": [
      "[[ 0.         18.79489824 10.24021964 19.05143091 12.25574277]\n",
      " [18.79489824  0.          9.51765727 37.70208823  9.57976452]\n",
      " [10.24021964  9.51765727  0.         28.05799708  5.73273033]\n",
      " [19.05143091 37.70208823 28.05799708  0.         30.23036553]\n",
      " [12.25574277  9.57976452  5.73273033 30.23036553  0.        ]]\n"
     ]
    }
   ],
   "source": [
    "adj_mat = np.zeros((5,5))\n",
    "#print(adj_mat)\n",
    "#print(arr_1[0])\n",
    "#s0s1 s0s2 s0s3 s1s2 s1s3 s2s3\n",
    "sqsumarr= []\n",
    "for i in range(5):\n",
    "    sqsum = 0\n",
    "    for j in range(i+1, 5):\n",
    "        for k in range(4):\n",
    "            sqsum = sqsum + (arr_1[j][k] - arr_1[i][k])**2\n",
    "            #print(j, k,  \"minus\", i, k)\n",
    "        sqsum = (sqsum)**(0.5)\n",
    "        adj_mat[i][j] = adj_mat[j][i] =  sqsum\n",
    "\n",
    "#print(sqsumarr)\n",
    "print(adj_mat)"
   ]
  },
  {
   "cell_type": "code",
   "execution_count": 122,
   "metadata": {},
   "outputs": [],
   "source": [
    "adj_mat[np.isnan(adj_mat)] = 0\n",
    "np.save(\"shareholding_relation_adjacent_matrix_tongyi.npy\",adj_mat)"
   ]
  }
 ],
 "metadata": {
  "kernelspec": {
   "display_name": "Python 3.9.0 64-bit",
   "language": "python",
   "name": "python3"
  },
  "language_info": {
   "codemirror_mode": {
    "name": "ipython",
    "version": 3
   },
   "file_extension": ".py",
   "mimetype": "text/x-python",
   "name": "python",
   "nbconvert_exporter": "python",
   "pygments_lexer": "ipython3",
   "version": "3.9.0"
  },
  "vscode": {
   "interpreter": {
    "hash": "0de31ffdd40f2f237d26afe08c835de62c2698e1ec6f1475be55df7fc2e3a0d6"
   }
  }
 },
 "nbformat": 4,
 "nbformat_minor": 4
}
